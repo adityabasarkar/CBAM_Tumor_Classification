{
  "cells": [
    {
      "cell_type": "code",
      "execution_count": 11,
      "metadata": {
        "colab": {
          "base_uri": "https://localhost:8080/"
        },
        "id": "kZuqqGR_iQAO",
        "outputId": "31fbb794-fd72-4a98-f128-445ba4469a60"
      },
      "outputs": [],
      "source": [
        "import os\n",
        "import zipfile\n",
        "import glob\n",
        "from pathlib import Path"
      ]
    },
    {
      "cell_type": "code",
      "execution_count": 12,
      "metadata": {},
      "outputs": [
        {
          "name": "stdout",
          "output_type": "stream",
          "text": [
            "Directory './content/train' was created.\n",
            "Directory './content/test' was created.\n"
          ]
        }
      ],
      "source": [
        "\n",
        "directory_path = './content/train'\n",
        "if not os.path.exists(directory_path):\n",
        "    os.makedirs(directory_path)\n",
        "    print(f\"Directory '{directory_path}' was created.\")\n",
        "else:\n",
        "    print(f\"Directory '{directory_path}' already exists.\")\n",
        "\n",
        "directory_path = './content/test'\n",
        "if not os.path.exists(directory_path):\n",
        "    os.makedirs(directory_path)\n",
        "    print(f\"Directory '{directory_path}' was created.\")\n",
        "else:\n",
        "    print(f\"Directory '{directory_path}' already exists.\")"
      ]
    },
    {
      "cell_type": "code",
      "execution_count": 13,
      "metadata": {
        "colab": {
          "base_uri": "https://localhost:8080/"
        },
        "id": "SIHV_0qQqqX8",
        "outputId": "9229fcbd-ebb5-4f80-f702-aea01338bfaa"
      },
      "outputs": [],
      "source": [
        "with zipfile.ZipFile('Training.zip', 'r') as zip_ref:\n",
        "    zip_ref.extractall('./content/train')\n",
        "with zipfile.ZipFile('Testing.zip', 'r') as zip_ref:\n",
        "    zip_ref.extractall('./content/test')"
      ]
    },
    {
      "cell_type": "code",
      "execution_count": 14,
      "metadata": {
        "id": "nktFQP8lr99L"
      },
      "outputs": [],
      "source": [
        "path = \"\"\n",
        "def label_glioma(folder):\n",
        "  for i,f in enumerate(folder):\n",
        "    os.rename(f, os.path.join(path+\"/glioma_tumor\", 'glioma_'+'{0:03d}.jpg'.format(i)))\n",
        "  glioma = glob.glob(path+\"glioma_tumor\"+'/*')\n",
        "  print(\"{}files changed\".format(i+1))\n",
        "def label_meningioma(folder):\n",
        "  for i,f in enumerate(folder):\n",
        "    os.rename(f, os.path.join(path+\"/meningioma_tumor\", 'meningioma_'+'{0:03d}.jpg'.format(i)))\n",
        "  glioma = glob.glob(path+\"meningioma_tumor\"+'/*')\n",
        "  print(\"{}files changed\".format(i+1))\n",
        "def label_no(folder):\n",
        "  for i,f in enumerate(folder):\n",
        "    os.rename(f, os.path.join(path+\"/no_tumor\", 'no_'+'{0:03d}.jpg'.format(i)))\n",
        "  glioma = glob.glob(path+\"no_tumor\"+'/*')\n",
        "  print(\"{}files changed\".format(i+1))\n",
        "def label_pituitary(folder):\n",
        "  for i,f in enumerate(folder):\n",
        "    os.rename(f, os.path.join(path+\"/pituitary_tumor\", 'pituitary_'+'{0:03d}.jpg'.format(i)))\n",
        "  glioma = glob.glob(path+\"pituitary_tumor\"+'/*')\n",
        "  print(\"{}files changed\".format(i+1))"
      ]
    },
    {
      "cell_type": "code",
      "execution_count": 15,
      "metadata": {
        "colab": {
          "base_uri": "https://localhost:8080/"
        },
        "id": "Dt98dKp8uBSO",
        "outputId": "c466d914-fe9e-48ed-bc54-5a421c76740f"
      },
      "outputs": [
        {
          "name": "stdout",
          "output_type": "stream",
          "text": [
            "826files changed\n",
            "822files changed\n",
            "395files changed\n",
            "827files changed\n",
            "100files changed\n",
            "115files changed\n",
            "105files changed\n",
            "74files changed\n"
          ]
        }
      ],
      "source": [
        "path = \"./content/train/Training\"\n",
        "glioma = glob.glob(path+\"/glioma_tumor\"+'/*.jpg')\n",
        "meningioma = glob.glob(path+\"/meningioma_tumor\"+\"/*.jpg\")\n",
        "no = glob.glob(path+\"/no_tumor\"+\"/*.jpg\")\n",
        "pituitary = glob.glob(path+\"/pituitary_tumor\"+\"/*.jpg\")\n",
        "\n",
        "label_glioma(glioma)\n",
        "label_meningioma(meningioma)\n",
        "label_no(no)\n",
        "label_pituitary(pituitary)\n",
        "\n",
        "path = \"./content/test/Testing\"\n",
        "glioma = glob.glob(path+\"/glioma_tumor\"+'/*.jpg')\n",
        "meningioma = glob.glob(path+\"/meningioma_tumor\"+\"/*.jpg\")\n",
        "no = glob.glob(path+\"/no_tumor\"+\"/*.jpg\")\n",
        "pituitary = glob.glob(path+\"/pituitary_tumor\"+\"/*.jpg\")\n",
        "\n",
        "label_glioma(glioma)\n",
        "label_meningioma(meningioma)\n",
        "label_no(no)\n",
        "label_pituitary(pituitary)"
      ]
    },
    {
      "cell_type": "code",
      "execution_count": 16,
      "metadata": {
        "id": "ZX9b_iMu0p_K"
      },
      "outputs": [],
      "source": [
        "import torch\n",
        "import torchvision\n",
        "from torchvision import transforms\n",
        "from torch.utils.data import DataLoader, Dataset\n",
        "import json\n",
        "from PIL import Image\n",
        "import random\n",
        "import gzip\n",
        "import pickle\n",
        "\n",
        "save_train_pt_path = \"./content/train/train_datasets\"\n",
        "save_test_pt_path = \"./content/test/test_datasets\""
      ]
    },
    {
      "cell_type": "code",
      "execution_count": 17,
      "metadata": {},
      "outputs": [],
      "source": [
        "def image_to_tensor(path) -> torch.Tensor:\n",
        "    resize_trans = transforms.Compose([transforms.Resize((512,512)), transforms.Grayscale(), transforms.ToTensor()])\n",
        "    image = Image.open(path)\n",
        "    image_tensor = resize_trans(image)\n",
        "    return image_tensor"
      ]
    },
    {
      "cell_type": "code",
      "execution_count": 18,
      "metadata": {},
      "outputs": [],
      "source": [
        "def save_images(path, save_path: str):\n",
        "    \n",
        "    listed_image_paths = []\n",
        "    for folder in os.listdir(path):\n",
        "        for filename in os.listdir(path + \"/{}\".format(folder)):\n",
        "            image_path = path + \"/{}\".format(folder) + \"/{}\".format(filename)\n",
        "            listed_image_paths.append(image_path)\n",
        "    \n",
        "    random.shuffle(listed_image_paths)\n",
        "    \n",
        "    IO_pairs = []\n",
        "    set = 1\n",
        "    for i, path_str in enumerate(listed_image_paths):\n",
        "        tensor = image_to_tensor(path_str)\n",
        "        path = Path(path_str)\n",
        "        filename = path.parts[len(path.parts) - 1]\n",
        "\n",
        "        if filename.startswith('g'):\n",
        "            image_class_name='glioma'\n",
        "            tensor_class_target = torch.tensor([1,0,0,0])\n",
        "\n",
        "        if filename.startswith('m'):\n",
        "            image_class_name='meningioma'\n",
        "            tensor_class_target = torch.tensor([0,1,0,0])\n",
        "\n",
        "        if filename.startswith('p'):\n",
        "            image_class_name='pituitary'\n",
        "            tensor_class_target = torch.tensor([0,0,1,0])\n",
        "\n",
        "        if filename.startswith('n'):\n",
        "            image_class_name='no'\n",
        "            tensor_class_target = torch.tensor([0,0,0,1])\n",
        "        \n",
        "        example = [image_class_name, tensor.tolist(), tensor_class_target]\n",
        "        IO_pairs.append(example)\n",
        "\n",
        "        if (len(IO_pairs) == 1000 or i + 1 == len(listed_image_paths)):\n",
        "            dataset = ImageDataset(IO_pairs)\n",
        "            print(dataset.__len__())\n",
        "            torch.save(dataset, save_path + \"/{}_dataset{}.pt\".format(\"train\" if \"train\" in save_path else \"test\", set))\n",
        "            IO_pairs = []\n",
        "            set += 1\n",
        "\n",
        "class ImageDataset(Dataset):\n",
        "    def __init__(self, IO_pairs):\n",
        "        self.IO_pairs = IO_pairs\n",
        "\n",
        "    def __len__(self):\n",
        "        return len(self.IO_pairs)\n",
        "\n",
        "    def __getitem__(self, index):\n",
        "        # Get the image\n",
        "        image_class_name = self.IO_pairs[index][0]\n",
        "        image_tensor_list = self.IO_pairs[index][1]\n",
        "        classification_target = self.IO_pairs[index][2]\n",
        "\n",
        "        return image_class_name, image_tensor_list, classification_target"
      ]
    },
    {
      "cell_type": "code",
      "execution_count": 19,
      "metadata": {
        "id": "zei5jdAjQj3G"
      },
      "outputs": [
        {
          "name": "stdout",
          "output_type": "stream",
          "text": [
            "1000\n",
            "1000\n",
            "870\n",
            "394\n"
          ]
        }
      ],
      "source": [
        "# We are given the glioma_tumor folder\n",
        "# We want a list that looks like this: [[image_class_name, image_tensor_list, classification_target], \n",
        "#                                       [image_class_name, image_tensor_list, classification_target], ... ]\n",
        "\n",
        "# Where do we get our content from? The input to the save_images function\n",
        "train_path = \"./content/train/Training\"\n",
        "test_path = \"./content/test/Testing\"\n",
        "\n",
        "# Where do we store our pt files? Output of the save_images function\n",
        "save_train_pt_path = \"./content/train/train_datasets\"\n",
        "save_test_pt_path = \"./content/test/test_datasets\"\n",
        "\n",
        "if not os.path.exists(save_train_pt_path):\n",
        "    os.mkdir(save_train_pt_path)\n",
        "if not os.path.exists(save_test_pt_path):\n",
        "    os.mkdir(save_test_pt_path)\n",
        "\n",
        "save_images(train_path, save_train_pt_path)\n",
        "save_images(test_path, save_test_pt_path)"
      ]
    },
    {
      "cell_type": "code",
      "execution_count": 20,
      "metadata": {},
      "outputs": [
        {
          "name": "stdout",
          "output_type": "stream",
          "text": [
            "<class '__main__.ImageDataset'>\n"
          ]
        }
      ],
      "source": [
        "# Torch loading demo\n",
        "train_paths = []\n",
        "for file in os.listdir(save_train_pt_path):\n",
        "    train_paths.append(save_train_pt_path + \"/{}\".format(file))\n",
        "\n",
        "loaded_data = torch.load(train_paths[0])\n",
        "print(type(loaded_data))"
      ]
    },
    {
      "cell_type": "code",
      "execution_count": 23,
      "metadata": {},
      "outputs": [
        {
          "name": "stdout",
          "output_type": "stream",
          "text": [
            "279\n"
          ]
        }
      ],
      "source": [
        "accum = 0\n",
        "for i in range(loaded_data.__len__()):\n",
        "    if loaded_data.__getitem__(i)[0] == 'meningioma':\n",
        "        accum += 1\n",
        "\n",
        "print(accum)"
      ]
    },
    {
      "cell_type": "code",
      "execution_count": 36,
      "metadata": {},
      "outputs": [
        {
          "name": "stdout",
          "output_type": "stream",
          "text": [
            "Random class: pituitary\n"
          ]
        }
      ],
      "source": [
        "print(\"Random class: \" + loaded_data.__getitem__(5)[0])"
      ]
    }
  ],
  "metadata": {
    "colab": {
      "provenance": []
    },
    "kernelspec": {
      "display_name": "Python 3",
      "name": "python3"
    },
    "language_info": {
      "codemirror_mode": {
        "name": "ipython",
        "version": 3
      },
      "file_extension": ".py",
      "mimetype": "text/x-python",
      "name": "python",
      "nbconvert_exporter": "python",
      "pygments_lexer": "ipython3",
      "version": "3.11.5"
    }
  },
  "nbformat": 4,
  "nbformat_minor": 0
}
